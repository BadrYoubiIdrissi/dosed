{
 "cells": [
  {
   "cell_type": "markdown",
   "metadata": {},
   "source": [
    "# Dosed Training and Evaluation\n",
    "\n",
    "Requirements:\n",
    "\n",
    "1. You need the data for training as h5 files, to get them you either:\n",
    "  - Go through `download_and_data_format_explanation.ipynb`\n",
    "\n",
    "    or \n",
    "\n",
    "  - Run `make download_example`  you can use optionnal DOWNLOAD_PATH env variable to specify an alternative directory\n",
    "  \n",
    "2. Have dosed installed:\n",
    "    \n",
    "  - Run `pip install -e .` from dosed root directory\n",
    "  or \n",
    "  - Run `python setup.py develop` from dosed root directory\n",
    "  \n"
   ]
  },
  {
   "cell_type": "code",
   "execution_count": 1,
   "metadata": {},
   "outputs": [],
   "source": [
    "%matplotlib inline"
   ]
  },
  {
   "cell_type": "code",
   "execution_count": 2,
   "metadata": {},
   "outputs": [],
   "source": [
    "import os\n",
    "import json\n",
    "\n",
    "h5_directory = '/gpfs/users/idrissib/datasets/sleepapnea/records/train'  # adapt if you used a different DOWNLOAD_PATH when running `make download_example`"
   ]
  },
  {
   "cell_type": "markdown",
   "metadata": {},
   "source": [
    "# 1. Train, validation and test dataset creation\n",
    "\n",
    "## First we select which records we want to train, validate and test on"
   ]
  },
  {
   "cell_type": "code",
   "execution_count": 3,
   "metadata": {},
   "outputs": [],
   "source": [
    "import torch\n",
    "import tempfile\n",
    "import json\n",
    "import random\n",
    "\n",
    "\n",
    "from dosed.utils import Compose\n",
    "from dosed.datasets import BalancedEventDataset as dataset\n",
    "from dosed.models import DOSED3 as model\n",
    "from dosed.datasets import get_train_validation_test\n",
    "from dosed.trainers import trainers\n",
    "from dosed.preprocessing import GaussianNoise, RescaleNormal, Invert\n",
    "\n",
    "seed = 2019"
   ]
  },
  {
   "cell_type": "code",
   "execution_count": 4,
   "metadata": {},
   "outputs": [
    {
     "name": "stdout",
     "output_type": "stream",
     "text": [
      "Number of records train: 15\n",
      "Number of records validation: 7\n",
      "Number of records test: 0\n"
     ]
    }
   ],
   "source": [
    "train, validation, test = get_train_validation_test(h5_directory,\n",
    "                                                    percent_test=0,\n",
    "                                                    percent_validation=33,\n",
    "                                                    seed=seed)\n",
    "\n",
    "print(\"Number of records train:\", len(train))\n",
    "print(\"Number of records validation:\", len(validation))\n",
    "print(\"Number of records test:\", len(test))"
   ]
  },
  {
   "cell_type": "markdown",
   "metadata": {},
   "source": [
    "## Then we use the dataset class that will be use to generate sample for training and evaluation\n",
    "\n",
    "- h5_directory: Location of the generic h5 files.\n",
    "- signals: the signals from the h5 we want to include together with their normalization\n",
    "- events: the evvents from the h5 we want to train on\n",
    "- window: Spindles have a duration of ~1 seconds, so we design the samples accordingly by choosing 10 seconds windows\n",
    "- ratio_positive: sample within a training batch will have a probability of \"ratio_positive\" to contain at least one spindle \n",
    "- n_jobs: number of process used to extract and normalize signals from h5 files.\n",
    "- cache_data: cache results of extraction and normalization of signals from h5_file in h5_directory + \"/.cache\" (we strongly recommand to set True)\n",
    "\n"
   ]
  },
  {
   "cell_type": "code",
   "execution_count": 5,
   "metadata": {},
   "outputs": [
    {
     "name": "stdout",
     "output_type": "stream",
     "text": [
      "\n",
      "Input feature map size: 9000\n",
      "Input receptive field: 0\n",
      "Input size in seconds: 90.0 s\n",
      "Input receptive field in seconds: 0.0 s \n",
      "\n",
      "After layer 1:\n",
      "\tFeature map size: 4500\n",
      "\tReceptive field: 6\n",
      "\tReceptive field in seconds: 0.06 s\n",
      "After layer 2:\n",
      "\tFeature map size: 2250\n",
      "\tReceptive field: 16\n",
      "\tReceptive field in seconds: 0.16 s\n",
      "After layer 3:\n",
      "\tFeature map size: 1125\n",
      "\tReceptive field: 36\n",
      "\tReceptive field in seconds: 0.36 s\n",
      "After layer 4:\n",
      "\tFeature map size: 562\n",
      "\tReceptive field: 76\n",
      "\tReceptive field in seconds: 0.76 s\n",
      "After layer 5:\n",
      "\tFeature map size: 281\n",
      "\tReceptive field: 156\n",
      "\tReceptive field in seconds: 1.56 s\n",
      "After layer 6:\n",
      "\tFeature map size: 140\n",
      "\tReceptive field: 316\n",
      "\tReceptive field in seconds: 3.16 s\n",
      "After layer 7:\n",
      "\tFeature map size: 70\n",
      "\tReceptive field: 636\n",
      "\tReceptive field in seconds: 6.36 s\n",
      "\n",
      "\n",
      "Used model : \n",
      "----------------------------------------------------------------\n",
      "        Layer (type)               Output Shape         Param #\n",
      "================================================================\n",
      "            Conv1d-1              [-1, 8, 9000]             328\n",
      "       BatchNorm1d-2              [-1, 8, 9000]              16\n",
      "              ReLU-3              [-1, 8, 9000]               0\n",
      "           Dropout-4              [-1, 8, 9000]               0\n",
      "         MaxPool1d-5              [-1, 8, 4500]               0\n",
      "            Conv1d-6             [-1, 16, 4500]             656\n",
      "       BatchNorm1d-7             [-1, 16, 4500]              32\n",
      "              ReLU-8             [-1, 16, 4500]               0\n",
      "           Dropout-9             [-1, 16, 4500]               0\n",
      "        MaxPool1d-10             [-1, 16, 2250]               0\n",
      "           Conv1d-11             [-1, 32, 2250]           2,592\n",
      "      BatchNorm1d-12             [-1, 32, 2250]              64\n",
      "             ReLU-13             [-1, 32, 2250]               0\n",
      "          Dropout-14             [-1, 32, 2250]               0\n",
      "        MaxPool1d-15             [-1, 32, 1125]               0\n",
      "           Conv1d-16             [-1, 64, 1125]          10,304\n",
      "      BatchNorm1d-17             [-1, 64, 1125]             128\n",
      "             ReLU-18             [-1, 64, 1125]               0\n",
      "          Dropout-19             [-1, 64, 1125]               0\n",
      "        MaxPool1d-20              [-1, 64, 562]               0\n",
      "           Conv1d-21             [-1, 128, 562]          41,088\n",
      "      BatchNorm1d-22             [-1, 128, 562]             256\n",
      "             ReLU-23             [-1, 128, 562]               0\n",
      "          Dropout-24             [-1, 128, 562]               0\n",
      "        MaxPool1d-25             [-1, 128, 281]               0\n",
      "           Conv1d-26             [-1, 256, 281]         164,096\n",
      "      BatchNorm1d-27             [-1, 256, 281]             512\n",
      "             ReLU-28             [-1, 256, 281]               0\n",
      "          Dropout-29             [-1, 256, 281]               0\n",
      "        MaxPool1d-30             [-1, 256, 140]               0\n",
      "           Conv1d-31             [-1, 512, 140]         655,872\n",
      "      BatchNorm1d-32             [-1, 512, 140]           1,024\n",
      "             ReLU-33             [-1, 512, 140]               0\n",
      "          Dropout-34             [-1, 512, 140]               0\n",
      "        MaxPool1d-35              [-1, 512, 70]               0\n",
      "           Conv1d-36                [-1, 20, 1]         716,820\n",
      "           Conv1d-37                [-1, 20, 1]         716,820\n",
      "================================================================\n",
      "Total params: 2,310,608\n",
      "Trainable params: 2,310,608\n",
      "Non-trainable params: 0\n",
      "----------------------------------------------------------------\n",
      "Input size (MB): 0.27\n",
      "Forward/backward pass size (MB): 17.29\n",
      "Params size (MB): 8.81\n",
      "Estimated Total Size (MB): 26.38\n",
      "----------------------------------------------------------------\n",
      "None\n",
      "Device:  cuda:0\n",
      "\u001b[32;1mLogging data to ./train_history.json\u001b[0m\n"
     ]
    },
    {
     "data": {
      "text/plain": [
       "<All keys matched successfully>"
      ]
     },
     "execution_count": 5,
     "metadata": {},
     "output_type": "execute_result"
    }
   ],
   "source": [
    "from dosed.utils import Compose\n",
    "from dosed.datasets import BalancedEventDataset as dataset\n",
    "from dosed.models import DOSED3 as model\n",
    "from dosed.datasets import get_train_validation_test\n",
    "from dosed.trainers import trainers\n",
    "from dosed.preprocessing import GaussianNoise, RescaleNormal, Invert\n",
    "from torchsummary import summary\n",
    "\n",
    "window = 90  # window duration in seconds\n",
    "ratio_positive = 0.5  # When creating the batch, sample containing at least one spindle will be drawn with that probability\n",
    "\n",
    "fs = 100\n",
    "signals = ['abdom_belt','airflow','PPG','thorac_belt','snore','SPO2','C4-A1','O2-A1']\n",
    "# ranges = [((-1145.483551138935, 4399.0), (-400.0, 400.0), (-4000.0, 4000.0), (-1000.0, 1000.0), (-1000.0, 1000.0), (0.0, 100000.0), (-1500.0, 1500.0), (-1500.0, 1500.0)]\n",
    "quantiles = [(0.0001, 0.9999), (0.0001, 0.9999), (0.0001, 0.9999), (0.0001, 0.9999), (0.0001, 0.9999), (0.0001, 0.9999), (0.0001, 0.9999), (0.0001, 0.9999)]\n",
    "\n",
    "signals = [\n",
    "    {\n",
    "        'h5_path': signal,\n",
    "        'fs': fs,\n",
    "        'processing': {\n",
    "            \"type\": \"quantile_normalize\",\n",
    "            \"args\": {\n",
    "                \"min_quantile\": min_quantile,\n",
    "                \"max_quantile\": max_quantile\n",
    "            }\n",
    "        }\n",
    "    } for signal, (min_quantile, max_quantile) in zip(signals, quantiles)\n",
    "]\n",
    "\n",
    "events = [\n",
    "    {\n",
    "        \"name\": \"apnea\",\n",
    "        \"h5_path\": \"apnea\",\n",
    "    }\n",
    "]\n",
    "\n",
    "dataset_parameters = {\n",
    "    \"h5_directory\": h5_directory,\n",
    "    \"signals\": signals,\n",
    "    \"events\": events,\n",
    "    \"window\": window,\n",
    "    \"fs\": fs,\n",
    "    \"ratio_positive\": ratio_positive,\n",
    "    \"n_jobs\": 16,  # Make use of parallel computing to extract and normalize signals from h5\n",
    "    \"cache_data\": False,  # by default will store normalized signals extracted from h5 in h5_directory + \"/.cache\" directory\n",
    "}\n",
    "\n",
    "dataset_validation = dataset(records=validation, **dataset_parameters)\n",
    "# for training add data augmentation\n",
    "dataset_parameters_train = {\n",
    "#     \"transformations\": Compose([\n",
    "#         GaussianNoise(),\n",
    "#         RescaleNormal(),\n",
    "#         Invert(),\n",
    "#     ])\n",
    "}\n",
    "dataset_parameters_train.update(dataset_parameters)\n",
    "# dataset_train = dataset(records=train)\n",
    "dataset_train = dataset(records=train, **dataset_parameters_train)\n",
    "\n",
    "default_event_sizes = [17]\n",
    "k_max = 7\n",
    "kernel_size = 5\n",
    "probability_dropout = 0.1\n",
    "device = torch.device(\"cuda\")\n",
    "\n",
    "sampling_frequency = dataset_train.fs\n",
    "\n",
    "net_parameters = {\n",
    "    \"detection_parameters\": {\n",
    "        \"overlap_non_maximum_suppression\": 0.5,\n",
    "        \"classification_threshold\": 0.3\n",
    "    },\n",
    "    \"default_event_sizes\": [\n",
    "        default_event_size * sampling_frequency\n",
    "        for default_event_size in default_event_sizes\n",
    "    ],\n",
    "    \"k_max\": k_max,\n",
    "    \"kernel_size\": kernel_size,\n",
    "    \"pdrop\": probability_dropout,\n",
    "    \"fs\": sampling_frequency,   # just used to print architecture info with right time\n",
    "    \"input_shape\": dataset_train.input_shape,\n",
    "    \"number_of_classes\": dataset_train.number_of_classes,\n",
    "}\n",
    "\n",
    "net = model(**net_parameters)\n",
    "net = net.to(device)\n",
    "print(\"Used model : \")\n",
    "print(summary(net, (8,9000)))\n",
    "optimizer_parameters = {\n",
    "    \"lr\": 0.01,\n",
    "    \"weight_decay\": 1e-3,\n",
    "}\n",
    "loss_specs = {\n",
    "    \"type\": \"focal\",\n",
    "    \"parameters\": {\n",
    "        \"number_of_classes\": dataset_train.number_of_classes,\n",
    "        \"device\": device,\n",
    "    }\n",
    "}\n",
    "epochs = 20\n",
    "save_folder = '.'\n",
    "trainer = trainers[\"adam\"](\n",
    "    net,\n",
    "    optimizer_parameters=optimizer_parameters,\n",
    "    loss_specs=loss_specs,\n",
    "    epochs=epochs,\n",
    "    logger_parameters={\n",
    "            \"num_events\": 1,\n",
    "            \"output_dir\": \".\",\n",
    "            \"output_fname\": 'train_history.json',\n",
    "            \"metrics\": [\"precision\", \"recall\", \"f1\"],\n",
    "            \"name_events\": [\"apnea\"]\n",
    "        },\n",
    "    matching_overlap=0.3,\n",
    "    on_epoch_end_callbacks = [lambda epoch: net.save(save_folder + str(epoch) + \"_net\", net_parameters)]\n",
    ")\n",
    "\n",
    "net.load_state_dict(torch.load(\"/gpfs/users/idrissib/dev/dosed/multirun/2021-03-01/16-19-11/0/best_net.pt\"))"
   ]
  },
  {
   "cell_type": "markdown",
   "metadata": {},
   "source": [
    "# 2. Create a network\n",
    "\n",
    "The main parameters for the network are:\n",
    "  - default event sizes : to choose according to a priori size of the event to detect, here spindles are around 1 second\n",
    "  - k_max : number of CNN layers\n",
    "  "
   ]
  },
  {
   "cell_type": "markdown",
   "metadata": {},
   "source": [
    "# 3. Train the network\n",
    "\n",
    "Parameters are\n",
    "  - learning_rate\n",
    "  - loss type"
   ]
  },
  {
   "cell_type": "markdown",
   "metadata": {},
   "source": [
    "# 4. Predict"
   ]
  },
  {
   "cell_type": "code",
   "execution_count": 8,
   "metadata": {},
   "outputs": [],
   "source": [
    "predictions = net.predict_dataset(\n",
    "    dataset_validation,\n",
    "    0.717,\n",
    ")"
   ]
  },
  {
   "cell_type": "code",
   "execution_count": 9,
   "metadata": {},
   "outputs": [
    {
     "data": {
      "image/png": "[encoded data removed]",
      "text/plain": [
       "<Figure size 1152x360 with 1 Axes>"
      ]
     },
     "metadata": {
      "needs_background": "light"
     },
     "output_type": "display_data"
    }
   ],
   "source": [
    "import matplotlib.pyplot as plt\n",
    "import numpy as np\n",
    "\n",
    "record = dataset_validation.records[1]\n",
    "\n",
    "index_spindle = 30\n",
    "window_duration = 5\n",
    "\n",
    "# retrive spindle at the right index\n",
    "spindle_start = float(predictions[record][0][index_spindle][0]) / sampling_frequency\n",
    "spindle_end = float(predictions[record][0][index_spindle][1]) / sampling_frequency\n",
    "\n",
    "# center data window on annotated spindle \n",
    "start_window = spindle_start + (spindle_end - spindle_start) / 2 - window_duration\n",
    "stop_window = spindle_start + (spindle_end - spindle_start) / 2 + window_duration\n",
    "\n",
    "# Retrieve EEG data at right index\n",
    "index_start = int(start_window * sampling_frequency)\n",
    "index_stop = int(stop_window * sampling_frequency)\n",
    "y = dataset_validation.signals[record][\"data\"][0][index_start:index_stop]\n",
    "\n",
    "# Build corresponding time support\n",
    "t = start_window + np.cumsum(np.ones(index_stop - index_start) * 1 / sampling_frequency)\n",
    "\n",
    "plt.figure(figsize=(16, 5))\n",
    "plt.plot(t, y)\n",
    "plt.axvline(spindle_end)\n",
    "plt.axvline(spindle_start)\n",
    "plt.ylim([-1, 1])\n",
    "plt.show()"
   ]
  },
  {
   "cell_type": "code",
   "execution_count": 10,
   "metadata": {},
   "outputs": [
    {
     "data": {
      "text/plain": [
       "'8.h5'"
      ]
     },
     "execution_count": 10,
     "metadata": {},
     "output_type": "execute_result"
    }
   ],
   "source": [
    "dataset_validation.records[1]"
   ]
  },
  {
   "cell_type": "code",
   "execution_count": 96,
   "metadata": {},
   "outputs": [],
   "source": [
    "data_sample = dataset_validation[0]"
   ]
  },
  {
   "cell_type": "code",
   "execution_count": 97,
   "metadata": {},
   "outputs": [
    {
     "data": {
      "text/plain": [
       "tensor([[ 719., 1919.,    0.],\n",
       "        [4219., 4419.,    0.]])"
      ]
     },
     "execution_count": 97,
     "metadata": {},
     "output_type": "execute_result"
    }
   ],
   "source": [
    "data_sample[1]*9000"
   ]
  },
  {
   "cell_type": "code",
   "execution_count": 101,
   "metadata": {},
   "outputs": [
    {
     "data": {
      "image/png": "[encoded data removed]",
      "text/plain": [
       "<Figure size 432x288 with 1 Axes>"
      ]
     },
     "metadata": {
      "needs_background": "light"
     },
     "output_type": "display_data"
    }
   ],
   "source": [
    "plt.plot(data_sample[0][0])\n",
    "for event in data_sample[1]:\n",
    "    plt.axvline(event[0]*9000, color=\"y\")\n",
    "    plt.axvline(event[1]*9000, color=\"r\")"
   ]
  },
  {
   "cell_type": "code",
   "execution_count": 105,
   "metadata": {},
   "outputs": [
    {
     "data": {
      "text/plain": [
       "(tensor([[[-0.2517, -0.4655],\n",
       "          [ 0.8509, -0.8245],\n",
       "          [-0.2599,  0.9015],\n",
       "          [-0.2631,  0.4243],\n",
       "          [-0.3949, -0.8989],\n",
       "          [ 0.5329,  0.0442],\n",
       "          [ 0.0280, -0.2509],\n",
       "          [-2.7309,  0.4925],\n",
       "          [-0.4273, -0.0943],\n",
       "          [-1.4363,  0.1610]]], device='cuda:0', grad_fn=<ViewBackward>),\n",
       " tensor([[[ 0.0675, -0.0713],\n",
       "          [-0.0947,  0.0778],\n",
       "          [-0.4321,  0.4806],\n",
       "          [-1.1010,  1.0547],\n",
       "          [ 0.1050, -0.0558],\n",
       "          [ 0.2683, -0.2299],\n",
       "          [-0.2882,  0.2486],\n",
       "          [ 0.2021, -0.2407],\n",
       "          [ 0.1850, -0.1494],\n",
       "          [ 0.5670, -0.5519]]], device='cuda:0', grad_fn=<ViewBackward>),\n",
       " tensor([[0.0472, 0.1889],\n",
       "         [0.1417, 0.1889],\n",
       "         [0.2361, 0.1889],\n",
       "         [0.3306, 0.1889],\n",
       "         [0.4250, 0.1889],\n",
       "         [0.5194, 0.1889],\n",
       "         [0.6139, 0.1889],\n",
       "         [0.7083, 0.1889],\n",
       "         [0.8028, 0.1889],\n",
       "         [0.8972, 0.1889]]))"
      ]
     },
     "execution_count": 105,
     "metadata": {},
     "output_type": "execute_result"
    }
   ],
   "source": [
    "pred = net(data_sample[0].unsqueeze(0).to(0))\n",
    "pred"
   ]
  },
  {
   "cell_type": "code",
   "execution_count": 103,
   "metadata": {},
   "outputs": [
    {
     "data": {
      "text/plain": [
       "<matplotlib.lines.Line2D at 0x2b7586bb7358>"
      ]
     },
     "execution_count": 103,
     "metadata": {},
     "output_type": "execute_result"
    },
    {
     "data": {
      "image/png": "[encoded data removed]",
      "text/plain": [
       "<Figure size 432x288 with 1 Axes>"
      ]
     },
     "metadata": {
      "needs_background": "light"
     },
     "output_type": "display_data"
    }
   ],
   "source": [
    "pred = net.predict(data_sample[0].unsqueeze(0).to(0))[0][0]\n",
    "plt.plot(data_sample[0][0])\n",
    "plt.axvline(pred[0]*9000, color=\"r\")\n",
    "plt.axvline(pred[1]*9000, color=\"r\")"
   ]
  },
  {
   "cell_type": "code",
   "execution_count": 19,
   "metadata": {},
   "outputs": [
    {
     "ename": "KeyError",
     "evalue": "\"Unable to open object (object 'SP' doesn't exist)\"",
     "output_type": "error",
     "traceback": [
      "\u001b[0;31m---------------------------------------------------------------------------\u001b[0m",
      "\u001b[0;31mKeyError\u001b[0m                                  Traceback (most recent call last)",
      "\u001b[0;32m<ipython-input-19-def08122e6b2>\u001b[0m in \u001b[0;36m<module>\u001b[0;34m\u001b[0m\n\u001b[1;32m      7\u001b[0m \u001b[0;34m\u001b[0m\u001b[0m\n\u001b[1;32m      8\u001b[0m \u001b[0;32mwith\u001b[0m \u001b[0mh5py\u001b[0m\u001b[0;34m.\u001b[0m\u001b[0mFile\u001b[0m\u001b[0;34m(\u001b[0m\u001b[0mos\u001b[0m\u001b[0;34m.\u001b[0m\u001b[0mpath\u001b[0m\u001b[0;34m.\u001b[0m\u001b[0mjoin\u001b[0m\u001b[0;34m(\u001b[0m\u001b[0mh5_directory\u001b[0m\u001b[0;34m,\u001b[0m \u001b[0;34m\"8.h5\"\u001b[0m\u001b[0;34m)\u001b[0m\u001b[0;34m)\u001b[0m \u001b[0;32mas\u001b[0m \u001b[0mf\u001b[0m\u001b[0;34m:\u001b[0m\u001b[0;34m\u001b[0m\u001b[0;34m\u001b[0m\u001b[0m\n\u001b[0;32m----> 9\u001b[0;31m     \u001b[0mx\u001b[0m \u001b[0;34m=\u001b[0m \u001b[0mf\u001b[0m\u001b[0;34m[\u001b[0m\u001b[0;34m\"SP\"\u001b[0m\u001b[0;34m]\u001b[0m\u001b[0;34m\u001b[0m\u001b[0;34m\u001b[0m\u001b[0m\n\u001b[0m\u001b[1;32m     10\u001b[0m     \u001b[0mx\u001b[0m \u001b[0;34m=\u001b[0m \u001b[0mq_n\u001b[0m\u001b[0;34m(\u001b[0m\u001b[0mx\u001b[0m\u001b[0;34m)\u001b[0m\u001b[0;34m\u001b[0m\u001b[0;34m\u001b[0m\u001b[0m\n\u001b[1;32m     11\u001b[0m     \u001b[0mplt\u001b[0m\u001b[0;34m.\u001b[0m\u001b[0mplot\u001b[0m\u001b[0;34m(\u001b[0m\u001b[0mx\u001b[0m\u001b[0;34m[\u001b[0m\u001b[0;34m:\u001b[0m\u001b[0;36m100000\u001b[0m\u001b[0;34m]\u001b[0m\u001b[0;34m)\u001b[0m\u001b[0;34m\u001b[0m\u001b[0;34m\u001b[0m\u001b[0m\n",
      "\u001b[0;32mh5py/_objects.pyx\u001b[0m in \u001b[0;36mh5py._objects.with_phil.wrapper\u001b[0;34m()\u001b[0m\n",
      "\u001b[0;32mh5py/_objects.pyx\u001b[0m in \u001b[0;36mh5py._objects.with_phil.wrapper\u001b[0;34m()\u001b[0m\n",
      "\u001b[0;32m~/.conda/envs/dreem/lib/python3.6/site-packages/h5py/_hl/group.py\u001b[0m in \u001b[0;36m__getitem__\u001b[0;34m(self, name)\u001b[0m\n\u001b[1;32m    175\u001b[0m                 \u001b[0;32mraise\u001b[0m \u001b[0mValueError\u001b[0m\u001b[0;34m(\u001b[0m\u001b[0;34m\"Invalid HDF5 object reference\"\u001b[0m\u001b[0;34m)\u001b[0m\u001b[0;34m\u001b[0m\u001b[0;34m\u001b[0m\u001b[0m\n\u001b[1;32m    176\u001b[0m         \u001b[0;32melse\u001b[0m\u001b[0;34m:\u001b[0m\u001b[0;34m\u001b[0m\u001b[0;34m\u001b[0m\u001b[0m\n\u001b[0;32m--> 177\u001b[0;31m             \u001b[0moid\u001b[0m \u001b[0;34m=\u001b[0m \u001b[0mh5o\u001b[0m\u001b[0;34m.\u001b[0m\u001b[0mopen\u001b[0m\u001b[0;34m(\u001b[0m\u001b[0mself\u001b[0m\u001b[0;34m.\u001b[0m\u001b[0mid\u001b[0m\u001b[0;34m,\u001b[0m \u001b[0mself\u001b[0m\u001b[0;34m.\u001b[0m\u001b[0m_e\u001b[0m\u001b[0;34m(\u001b[0m\u001b[0mname\u001b[0m\u001b[0;34m)\u001b[0m\u001b[0;34m,\u001b[0m \u001b[0mlapl\u001b[0m\u001b[0;34m=\u001b[0m\u001b[0mself\u001b[0m\u001b[0;34m.\u001b[0m\u001b[0m_lapl\u001b[0m\u001b[0;34m)\u001b[0m\u001b[0;34m\u001b[0m\u001b[0;34m\u001b[0m\u001b[0m\n\u001b[0m\u001b[1;32m    178\u001b[0m \u001b[0;34m\u001b[0m\u001b[0m\n\u001b[1;32m    179\u001b[0m         \u001b[0motype\u001b[0m \u001b[0;34m=\u001b[0m \u001b[0mh5i\u001b[0m\u001b[0;34m.\u001b[0m\u001b[0mget_type\u001b[0m\u001b[0;34m(\u001b[0m\u001b[0moid\u001b[0m\u001b[0;34m)\u001b[0m\u001b[0;34m\u001b[0m\u001b[0;34m\u001b[0m\u001b[0m\n",
      "\u001b[0;32mh5py/_objects.pyx\u001b[0m in \u001b[0;36mh5py._objects.with_phil.wrapper\u001b[0;34m()\u001b[0m\n",
      "\u001b[0;32mh5py/_objects.pyx\u001b[0m in \u001b[0;36mh5py._objects.with_phil.wrapper\u001b[0;34m()\u001b[0m\n",
      "\u001b[0;32mh5py/h5o.pyx\u001b[0m in \u001b[0;36mh5py.h5o.open\u001b[0;34m()\u001b[0m\n",
      "\u001b[0;31mKeyError\u001b[0m: \"Unable to open object (object 'SP' doesn't exist)\""
     ]
    }
   ],
   "source": [
    "import h5py\n",
    "import os\n",
    "import numpy as np\n",
    "from dosed.preprocessing.normalizers import quantile_normalize\n",
    "\n",
    "q_n = quantile_normalize(0.0001, 0.9999)\n",
    "\n",
    "with h5py.File(os.path.join(h5_directory, \"8.h5\")) as f:\n",
    "    x = f[\"SP\"]\n",
    "    x = q_n(x)\n",
    "    plt.plot(x[:100000])"
   ]
  },
  {
   "cell_type": "code",
   "execution_count": null,
   "metadata": {},
   "outputs": [],
   "source": []
  }
 ],
 "metadata": {
  "kernelspec": {
   "display_name": "Python 3",
   "language": "python",
   "name": "python3"
  },
  "language_info": {
   "codemirror_mode": {
    "name": "ipython",
    "version": 3
   },
   "file_extension": ".py",
   "mimetype": "text/x-python",
   "name": "python",
   "nbconvert_exporter": "python",
   "pygments_lexer": "ipython3",
   "version": "3.6.13"
  }
 },
 "nbformat": 4,
 "nbformat_minor": 4
}
